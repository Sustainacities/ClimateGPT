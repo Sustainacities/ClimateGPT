{
 "cells": [
  {
   "attachments": {},
   "cell_type": "markdown",
   "metadata": {},
   "source": [
    "### Use this Notebook to create Vector Datastore using Chroma and Langchain"
   ]
  },
  {
   "attachments": {},
   "cell_type": "markdown",
   "metadata": {},
   "source": [
    "##### Arabic Vector DB - Model : *sentence-transformers/stsb-xlm-r-multilingual*"
   ]
  },
  {
   "cell_type": "code",
   "execution_count": 1,
   "metadata": {},
   "outputs": [
    {
     "name": "stderr",
     "output_type": "stream",
     "text": [
      "/home/sahal.mullappilly/.conda/envs/vicuna/lib/python3.8/site-packages/tqdm/auto.py:21: TqdmWarning: IProgress not found. Please update jupyter and ipywidgets. See https://ipywidgets.readthedocs.io/en/stable/user_install.html\n",
      "  from .autonotebook import tqdm as notebook_tqdm\n"
     ]
    },
    {
     "name": "stdout",
     "output_type": "stream",
     "text": [
      "embedding the doc now\n"
     ]
    },
    {
     "name": "stderr",
     "output_type": "stream",
     "text": [
      "Using embedded DuckDB with persistence: data will be stored in: UAE_Docs_Embeddings_Arabic\n"
     ]
    }
   ],
   "source": [
    "from langchain.vectorstores import Chroma\n",
    "from langchain.embeddings import SentenceTransformerEmbeddings \n",
    "from langchain.document_loaders import PyPDFDirectoryLoader\n",
    "\n",
    "\n",
    "embeddings = SentenceTransformerEmbeddings(model_name =\"sentence-transformers/stsb-xlm-r-multilingual\")\n",
    "\n",
    "directory = \"UAE_Docs_Embeddings_Arabic\"\n",
    "\n",
    "print(\"embedding the doc now\")\n",
    "loader = PyPDFDirectoryLoader(\"UAE_Arabic_Documents\")\n",
    "pages = loader.load_and_split()\n",
    "\n",
    "vectordb = Chroma.from_documents(\n",
    "    documents=pages, embedding=embeddings, persist_directory=directory\n",
    ")\n",
    "\n",
    "vectordb.persist()"
   ]
  },
  {
   "attachments": {},
   "cell_type": "markdown",
   "metadata": {},
   "source": [
    "#### Retrieve from VectorDB"
   ]
  },
  {
   "cell_type": "code",
   "execution_count": 2,
   "metadata": {},
   "outputs": [
    {
     "name": "stderr",
     "output_type": "stream",
     "text": [
      "Using embedded DuckDB with persistence: data will be stored in: UAE_Docs_Embeddings_Arabic\n"
     ]
    },
    {
     "data": {
      "text/plain": [
       "[(Document(page_content='6 \\n \\nالهدف السادس  : ضمان توافر المياه النظيفة والنظافة الصحية .  \\nأ- في مجال المياه: \\n- الطلة المتزايد على المياه  ب الدولة الم در بنحو  4,2 مليار متر مكعة ستتتنويًا د مع امتلاكها  مخزون غير يتتتخم\\nمن المياه الجو ية د جعلها تتجه نحو تبني سياسات ترشيد استخدامات المياه واعتماد مصادر  خرى للمياه مثل تحلية \\nمياه البحر لتأمين احتياجاتها . \\n-  طل ت الدولة \"برنام  الإمارات لبحوث علوم الاستتتمطار \"د للت دم  ي استتتكشتتاف الأستتس العلمية والت نية لتحستتين  \\nهطول الأمطارد واستخدام التكنولوجيا لتح يز وزيادة هطول الأمطار.  \\n-  ستتتستتتت مؤستتتستتتة ستتت يا الإمارات واطلاق مبادرة ستتت يا الامارات لدعم الجهود الدولية من  جل تو ير مياه نظي ة \\nصتتالحة للشتترة للأشتتخاص المحتاجين حول العالمد كما تستتاهم المؤستتستتة  ي إيجاد حلول دائمة ومستتتدامة ومبتكرة \\nلمشكلة ندرة المياه. \\n - تم إنشاء 33 محطة تحلية لتو ير الاحتياجات من المياه. \\n- تم تبني حلول جديدة لتن ية المياه وتحليتها بما  ي ذلك تحلية مياه البحر بت نية التنايتتتتتتح العكستتتتتتيد ومحطة تحلية \\n ولت يوئيةد وتن ية المياه عن طريق تكنولوجيا الطامة الشمسية. \\n- تو ير المياه للعديد من دول العالم عن طريق عشتتتتتتترة مشتتتتتتتاريع ح ر ل بار يتم تن يذها حاليًا  ي غاناد وبنيند \\nوطاجاكستاند و  غانستاند والصومالد ويست يد منها حوالي 60,000 شخصاً. \\n- تشتتتجيع الحلول المستتتتدامة لن ص المياه على الصتتتعيد الدولي عن طريق إطلاق جائزة محمد بن راشتتتد آل مكتوم \\nالعالمية للمياه. \\n- إطلاق برنام  الإمارات لبحوث علوم الاستتتتمطار بمعر ة وزارة شتتتئون الرئاستتتة كمبادرة عالمية لتح يز وتطوير  \\n بحاث وعلوم الاستمطار. \\n-  مامت الدولة حتى العام 2013 نحو130ستتتتتتدا بستتتتتتعة تخزين إجمالية بلغت حوالي120 مليون متر مكعة من\\nالمياه.  \\n-  طل ت الدولة جائزة عالمية ب يمة مليون دولار لإيجاد حلول مستتتتتدامة لمشتتتتكلة شتتتتح المياه حول العالم د وذلك \\nباستخدام الطامة الشمسية لتن ية المياه وتحليتها . \\n-  مامت الدولة \"مركز  بحاث المياه \" لتطوير المعر ة والتكنولوجيا اللازمة لمعالجة إنتاج المياه النظي ة د والتغيّر \\n ي المناخ و إدارة الموارد المائيّة.', metadata={'source': 'UAE_Arabic_Documents/UAE_sustainability_Arabic.pdf', 'page': 4}),\n",
       "  110.39578247070312),\n",
       " (Document(page_content='6 \\n \\nالهدف السادس  : ضمان توافر المياه النظيفة والنظافة الصحية .  \\nأ- في مجال المياه: \\n- الطلة المتزايد على المياه  ب الدولة الم در بنحو  4,2 مليار متر مكعة ستتتنويًا د مع امتلاكها  مخزون غير يتتتخم\\nمن المياه الجو ية د جعلها تتجه نحو تبني سياسات ترشيد استخدامات المياه واعتماد مصادر  خرى للمياه مثل تحلية \\nمياه البحر لتأمين احتياجاتها . \\n-  طل ت الدولة \"برنام  الإمارات لبحوث علوم الاستتتمطار \"د للت دم  ي استتتكشتتاف الأستتس العلمية والت نية لتحستتين  \\nهطول الأمطارد واستخدام التكنولوجيا لتح يز وزيادة هطول الأمطار.  \\n-  ستتتستتتت مؤستتتستتتة ستتت يا الإمارات واطلاق مبادرة ستتت يا الامارات لدعم الجهود الدولية من  جل تو ير مياه نظي ة \\nصتتالحة للشتترة للأشتتخاص المحتاجين حول العالمد كما تستتاهم المؤستتستتة  ي إيجاد حلول دائمة ومستتتدامة ومبتكرة \\nلمشكلة ندرة المياه. \\n - تم إنشاء 33 محطة تحلية لتو ير الاحتياجات من المياه. \\n- تم تبني حلول جديدة لتن ية المياه وتحليتها بما  ي ذلك تحلية مياه البحر بت نية التنايتتتتتتح العكستتتتتتيد ومحطة تحلية \\n ولت يوئيةد وتن ية المياه عن طريق تكنولوجيا الطامة الشمسية. \\n- تو ير المياه للعديد من دول العالم عن طريق عشتتتتتتترة مشتتتتتتتاريع ح ر ل بار يتم تن يذها حاليًا  ي غاناد وبنيند \\nوطاجاكستاند و  غانستاند والصومالد ويست يد منها حوالي 60,000 شخصاً. \\n- تشتتتجيع الحلول المستتتتدامة لن ص المياه على الصتتتعيد الدولي عن طريق إطلاق جائزة محمد بن راشتتتد آل مكتوم \\nالعالمية للمياه. \\n- إطلاق برنام  الإمارات لبحوث علوم الاستتتتمطار بمعر ة وزارة شتتتئون الرئاستتتة كمبادرة عالمية لتح يز وتطوير  \\n بحاث وعلوم الاستمطار. \\n-  مامت الدولة حتى العام 2013 نحو130ستتتتتتدا بستتتتتتعة تخزين إجمالية بلغت حوالي120 مليون متر مكعة من\\nالمياه.  \\n-  طل ت الدولة جائزة عالمية ب يمة مليون دولار لإيجاد حلول مستتتتتدامة لمشتتتتكلة شتتتتح المياه حول العالم د وذلك \\nباستخدام الطامة الشمسية لتن ية المياه وتحليتها . \\n-  مامت الدولة \"مركز  بحاث المياه \" لتطوير المعر ة والتكنولوجيا اللازمة لمعالجة إنتاج المياه النظي ة د والتغيّر \\n ي المناخ و إدارة الموارد المائيّة.', metadata={'source': 'UAE_Arabic_Documents/UAE_sustainability_Arabic.pdf', 'page': 4}),\n",
       "  110.39578247070312),\n",
       " (Document(page_content='18 \\n \\nالهدف السادس: ضمان توافر المياه النظيفة والنظافة الصحية .  \\nتم الاشتتارة إلى هذا الهدف ( يتتمان توا ر المياه النظي ة والنظا ة الصتتحية ) يتتمن الأولوية الوطنية الأولي ( نظام \\nصحي بمعايير عالمية ) بذات الت رير .  \\nالهدف السابع : طاقة نظيفة وبأسعار معقولة . \\n- لتلبية الطلة على الطامة الكهربائية من جراء النمو السكاني المتسارع والتوسع الامتصادي والاعتبارات المناخية  \\nبطري ة مستدامة تم التركيز على مصادر الطامة المتجددة د والتي ستحد من الثار البيئية التي مد تنت  عن المصادر \\nالت ليدية للطامة. \\n - إطلاق استتتراتيجية الإمارات للتنمية الخيتتراء  ي عام 2012 تحت شتتعار\"امتصتتاد  خيتتر لتنمية مستتتدامة \"د \\nلجعل الدولة واحدة من الدول الرائدة عالمياً  ي مجال منتجات وت نيات الامتصتتتتتتتاد الأخيتتتتتتترد والح اظ على بيئة  \\nمستدامة. \\n- تحديد زيادة النسبة المستهد ة من الطامة النظي ة إلى 30   %بحلول عام2030 د وتهدف  ييًا إلى إنتاج25 - \\n30   %مناحتياجاتها الكهربائية من الطامة النووية والطامة الشمسية . \\n- تيسير الوصول إلى مصادر الطاقة من خلال ما يلي: \\n1- إنشاء شبكة الإمارات الوطنية للكهرباء لتح يق الربط الكهربائي الإماراتي الوطني  ي شبكة وطنية واحدة د عبر \\nربط الجهات الأربعة المسؤولة عن توريد الطامة  ي  نحاء الإمارات وهي: الهيئة الاتحادية للكهرباء والماء د وهيئة \\nمياه وكهرباء  بو ظبي  د وهيئة كهرباء وميا ه دبي  د وهيئة كهرباء ومياه الشتتتتتتتارمة  د لتح يق و ورات مالية مع  \\nإمكانية الن ل التجاري للكهرباء بين الهيئات المزودة للكهرباء  ي الدولة د ومواجهة الايتتتتتتتطرابات الكبيرة  و \\nالم اجئة. \\n 2- المستتتتاهمة  ي نظام الربط الكهربائي امليمي الخليجي  بما يؤستتتتس لستتتتوق طامة مشتتتتتركة بين دول المجلس د \\nويو ر امدادات طامة مستدامة تدعم الامتصادات الوطنية لدول الخلي  والمشروعات التنموية بها.  \\n3- المساهمات على الصعيد العالمي د حيث تستثمر شركة مصدر  ي  بو ظبي  كثر من1,7 مليار دولار  ميركي\\n ي مشاريع الطامة المتجددةد وتسهم مشاريعها بتو ير نحو  1 جيجاواط من الطامة النظي ة  ي دولة الإمارات العربية\\nالمتحدة وخارجها د حيث استتتطاعت  ن تن ذ 14 مشتتروعاً للطامة النظي ة  ي خمس دول خارجيةد وتمتلك حالياً13 \\nمشروعاً  ي تسع دول مختل ة.    \\n 4- استتتيتتا ة الوكالة الدولية للطامة المتجددة-إيرينا د التي تعتبر منصتتة للتعاون الدولي  ي مجال الطامة المتجددة د  \\nوتهدف لتعزيز الانت ال نحو استتتتخدام الطامة المتجددة على نطاق عالمي د وتجدر الاشتتتارة إلى  ن حكومة  بو ظبي \\nويعت لن سها هد اً  ي توليد 7 %على الأمل من مصادر متنوعة للطامة المتجددة بحلولالعام 2020 .', metadata={'source': 'UAE_Arabic_Documents/UAE_sustainability_Arabic.pdf', 'page': 16}),\n",
       "  123.36284637451172),\n",
       " (Document(page_content='18 \\n \\nالهدف السادس: ضمان توافر المياه النظيفة والنظافة الصحية .  \\nتم الاشتتارة إلى هذا الهدف ( يتتمان توا ر المياه النظي ة والنظا ة الصتتحية ) يتتمن الأولوية الوطنية الأولي ( نظام \\nصحي بمعايير عالمية ) بذات الت رير .  \\nالهدف السابع : طاقة نظيفة وبأسعار معقولة . \\n- لتلبية الطلة على الطامة الكهربائية من جراء النمو السكاني المتسارع والتوسع الامتصادي والاعتبارات المناخية  \\nبطري ة مستدامة تم التركيز على مصادر الطامة المتجددة د والتي ستحد من الثار البيئية التي مد تنت  عن المصادر \\nالت ليدية للطامة. \\n - إطلاق استتتراتيجية الإمارات للتنمية الخيتتراء  ي عام 2012 تحت شتتعار\"امتصتتاد  خيتتر لتنمية مستتتدامة \"د \\nلجعل الدولة واحدة من الدول الرائدة عالمياً  ي مجال منتجات وت نيات الامتصتتتتتتتاد الأخيتتتتتتترد والح اظ على بيئة  \\nمستدامة. \\n- تحديد زيادة النسبة المستهد ة من الطامة النظي ة إلى 30   %بحلول عام2030 د وتهدف  ييًا إلى إنتاج25 - \\n30   %مناحتياجاتها الكهربائية من الطامة النووية والطامة الشمسية . \\n- تيسير الوصول إلى مصادر الطاقة من خلال ما يلي: \\n1- إنشاء شبكة الإمارات الوطنية للكهرباء لتح يق الربط الكهربائي الإماراتي الوطني  ي شبكة وطنية واحدة د عبر \\nربط الجهات الأربعة المسؤولة عن توريد الطامة  ي  نحاء الإمارات وهي: الهيئة الاتحادية للكهرباء والماء د وهيئة \\nمياه وكهرباء  بو ظبي  د وهيئة كهرباء وميا ه دبي  د وهيئة كهرباء ومياه الشتتتتتتتارمة  د لتح يق و ورات مالية مع  \\nإمكانية الن ل التجاري للكهرباء بين الهيئات المزودة للكهرباء  ي الدولة د ومواجهة الايتتتتتتتطرابات الكبيرة  و \\nالم اجئة. \\n 2- المستتتتاهمة  ي نظام الربط الكهربائي امليمي الخليجي  بما يؤستتتتس لستتتتوق طامة مشتتتتتركة بين دول المجلس د \\nويو ر امدادات طامة مستدامة تدعم الامتصادات الوطنية لدول الخلي  والمشروعات التنموية بها.  \\n3- المساهمات على الصعيد العالمي د حيث تستثمر شركة مصدر  ي  بو ظبي  كثر من1,7 مليار دولار  ميركي\\n ي مشاريع الطامة المتجددةد وتسهم مشاريعها بتو ير نحو  1 جيجاواط من الطامة النظي ة  ي دولة الإمارات العربية\\nالمتحدة وخارجها د حيث استتتطاعت  ن تن ذ 14 مشتتروعاً للطامة النظي ة  ي خمس دول خارجيةد وتمتلك حالياً13 \\nمشروعاً  ي تسع دول مختل ة.    \\n 4- استتتيتتا ة الوكالة الدولية للطامة المتجددة-إيرينا د التي تعتبر منصتتة للتعاون الدولي  ي مجال الطامة المتجددة د  \\nوتهدف لتعزيز الانت ال نحو استتتتخدام الطامة المتجددة على نطاق عالمي د وتجدر الاشتتتارة إلى  ن حكومة  بو ظبي \\nويعت لن سها هد اً  ي توليد 7 %على الأمل من مصادر متنوعة للطامة المتجددة بحلولالعام 2020 .', metadata={'source': 'UAE_Arabic_Documents/UAE_sustainability_Arabic.pdf', 'page': 16}),\n",
       "  123.36284637451172)]"
      ]
     },
     "execution_count": 2,
     "metadata": {},
     "output_type": "execute_result"
    }
   ],
   "source": [
    "from langchain.vectorstores import Chroma\n",
    "from langchain.embeddings import SentenceTransformerEmbeddings\n",
    "directory = \"UAE_Docs_Embeddings_Arabic\"\n",
    "embeddings = SentenceTransformerEmbeddings(model_name =\"sentence-transformers/stsb-xlm-r-multilingual\")\n",
    "vectordb = Chroma(persist_directory=directory, embedding_function=embeddings)\n",
    "query = input(\"Type your search: \")\n",
    "result_docs = vectordb.similarity_search_with_score(query)\n",
    "result_docs"
   ]
  },
  {
   "attachments": {},
   "cell_type": "markdown",
   "metadata": {},
   "source": [
    "##### English Vector DB - Model : *sentence-transformers/all-MiniLM-L6-v2*"
   ]
  },
  {
   "cell_type": "code",
   "execution_count": 3,
   "metadata": {},
   "outputs": [
    {
     "name": "stdout",
     "output_type": "stream",
     "text": [
      "embedding the doc now\n"
     ]
    },
    {
     "name": "stderr",
     "output_type": "stream",
     "text": [
      "Using embedded DuckDB with persistence: data will be stored in: UAE_Docs_Embeddings\n"
     ]
    },
    {
     "name": "stdout",
     "output_type": "stream",
     "text": [
      "Total : 260\n",
      "Filtered : 249\n"
     ]
    }
   ],
   "source": [
    "from langchain.vectorstores import Chroma\n",
    "from langchain.embeddings import SentenceTransformerEmbeddings \n",
    "from langchain.document_loaders import PyPDFDirectoryLoader\n",
    "\n",
    "\n",
    "embeddings = SentenceTransformerEmbeddings(model_name ='sentence-transformers/all-MiniLM-L6-v2')\n",
    "\n",
    "directory = \"UAE_Docs_Embeddings\"\n",
    "\n",
    "# if not os.path.exists(directory):\n",
    "print(\"embedding the doc now\")\n",
    "loader = PyPDFDirectoryLoader(\"UAE_Docs\")\n",
    "pages = loader.load_and_split()\n",
    "\n",
    "print('Total :',len(pages))\n",
    "#Avoid docs with very less content\n",
    "filter_pages = []\n",
    "for doc in pages :\n",
    "    if len(doc.page_content) > 200 :\n",
    "        filter_pages.append(doc)\n",
    "print('Filtered :',len(filter_pages))\n",
    "\n",
    "vectordb = Chroma.from_documents(\n",
    "    documents=filter_pages, embedding=embeddings, persist_directory=directory\n",
    ")\n",
    "\n",
    "vectordb.persist()"
   ]
  },
  {
   "attachments": {},
   "cell_type": "markdown",
   "metadata": {},
   "source": [
    "#### Retrieve from VectorDB"
   ]
  },
  {
   "cell_type": "code",
   "execution_count": 4,
   "metadata": {},
   "outputs": [
    {
     "name": "stderr",
     "output_type": "stream",
     "text": [
      "Using embedded DuckDB with persistence: data will be stored in: UAE_Docs_Embeddings\n"
     ]
    },
    {
     "data": {
      "text/plain": [
       "[(Document(page_content='Page 1 Updated: March 2023\\nThe 28th Conference of the Parties to the UN Framework Convention on Climate Change (COP28) will \\ntake place in November 2023 at Expo City Dubai, United Arab Emirates. COP28 will unite the world towards agreement on bold, practical and ambitious solutions to the most pressing global challenge of our time.\\nAs host of COP28, the UAE has outlined four priority areas in which it plans to encourage action and \\nelevate the global community’s collective ambition and achieve a major course correction to cut global \\nemissions 43 percent by 2030.Areas of Focus“We need to reverse emissions while moving economies forward [and] enable \\nan inclusive and just transition that leaves no one behind. That’s why we are determined to make COP28 a COP for All, and a COP of Action.” \\nHE Dr. Sultan Al Jaber , COP28 President-Designate\\nCOP28 marks the conclusion of the /f_i rst Global Stocktake, a comprehensive assessment of progress  \\ntowards the goals of the Paris Agreement. The COP28 UAE Presidency will work to ensure that the world responds with a clear plan of action, including measures to bridge gaps in progress.\\nLed by HE Dr. Sultan Al Jaber, COP28 President-Designate, HE Shamma Al Mazrui, Youth Climate \\nChampion, and HE Razan Al Mubarak, UN Climate Change High-Level Champion, the UAE will focus on /f_inding practical solutions that ensure energy security while reducing emissions.\\nThe UAE is a global hub for logistics, transportation and green technology, and is at the crossroads of \\nbusiness, commerce and tourism. The country is uniquely positioned to build bridges and foster consensus to accelerate inclusive climate progress.Mitigation:  Greatly expand renewable energy generation and low-carbon hydrogen production; transform food and agriculture systems; work with the energy industry to accelerate decarbonization and reduce methane emissions.\\nAdaptation: Protect the most vulnerable communities and most critical systems from climate \\nimpacts, such as extreme weather and biodiversity loss; invest in nature-based solutions; expand adaptation /f_inance for the Global South.\\nFinance: Make climate /f_inance more aﬀordable and accessible; expand private capital directed \\ntoward climate solutions; answer the call from the international community for an inclusive reform of the multilateral development banks and international /f_inancial institutions.\\nLoss and Damage: Help the most vulnerable to rebuild after climate-related disasters; operationalize the loss-and-damage fund.', metadata={'source': 'UAE_Docs/UAE Embassy_COP28_03-2023.pdf', 'page': 0}),\n",
       "  0.9554027915000916),\n",
       " (Document(page_content='Page 1 Updated: March 2023\\nThe 28th Conference of the Parties to the UN Framework Convention on Climate Change (COP28) will \\ntake place in November 2023 at Expo City Dubai, United Arab Emirates. COP28 will unite the world towards agreement on bold, practical and ambitious solutions to the most pressing global challenge of our time.\\nAs host of COP28, the UAE has outlined four priority areas in which it plans to encourage action and \\nelevate the global community’s collective ambition and achieve a major course correction to cut global \\nemissions 43 percent by 2030.Areas of Focus“We need to reverse emissions while moving economies forward [and] enable \\nan inclusive and just transition that leaves no one behind. That’s why we are determined to make COP28 a COP for All, and a COP of Action.” \\nHE Dr. Sultan Al Jaber , COP28 President-Designate\\nCOP28 marks the conclusion of the /f_i rst Global Stocktake, a comprehensive assessment of progress  \\ntowards the goals of the Paris Agreement. The COP28 UAE Presidency will work to ensure that the world responds with a clear plan of action, including measures to bridge gaps in progress.\\nLed by HE Dr. Sultan Al Jaber, COP28 President-Designate, HE Shamma Al Mazrui, Youth Climate \\nChampion, and HE Razan Al Mubarak, UN Climate Change High-Level Champion, the UAE will focus on /f_inding practical solutions that ensure energy security while reducing emissions.\\nThe UAE is a global hub for logistics, transportation and green technology, and is at the crossroads of \\nbusiness, commerce and tourism. The country is uniquely positioned to build bridges and foster consensus to accelerate inclusive climate progress.Mitigation:  Greatly expand renewable energy generation and low-carbon hydrogen production; transform food and agriculture systems; work with the energy industry to accelerate decarbonization and reduce methane emissions.\\nAdaptation: Protect the most vulnerable communities and most critical systems from climate \\nimpacts, such as extreme weather and biodiversity loss; invest in nature-based solutions; expand adaptation /f_inance for the Global South.\\nFinance: Make climate /f_inance more aﬀordable and accessible; expand private capital directed \\ntoward climate solutions; answer the call from the international community for an inclusive reform of the multilateral development banks and international /f_inancial institutions.\\nLoss and Damage: Help the most vulnerable to rebuild after climate-related disasters; operationalize the loss-and-damage fund.', metadata={'source': 'UAE_Docs/UAE Embassy_COP28_03-2023.pdf', 'page': 0}),\n",
       "  0.9554027915000916),\n",
       " (Document(page_content='130 131\\nDUBAI POLICE: A FORCE FOR SUSTAINABLE DEVELOPMENT\\nSMART. SECURE. TOGETHER.\\nThe history of Dubai Police dates back to 1956 when it was mandated to ensure the safety and security of the \\nEmirate of Dubai. Today, Dubai Police Force consists of over 22,000 employees committed to making Dubai one of \\nthe safest cities in the world.\\nThe strategic objectives of Dubai Police align with a number of federal and local government plans including, the \\nUAE Vision 2021, the Dubai Plan 2021, the UAE Green Economy for Sustainable Development 2030 among others. \\nContributing to the sustainable development of the UAE is a particularly important aspect of the operational model \\nof Dubai Police. Recent contributions were outlined in the Dubai Police Sustainability Report that was prepared in \\naccordance with the standards of the Global Reporting Initiative (GRI). Dubai Police is also committed to helping \\nthe UAE implement and achieve the UN SDGs and various aspects of the SDGs are reflected in recent initiatives. \\nThese range from building the capabilities of the workforce, leading the transition to SMART technologies, ensuring \\nthat people - especially women, children and vulnerable populations - live in safety and security and taking action on \\nclimate issues by targeting a zero-carbon police force by the year 2020. \\n1. QUALITY EDUCATION & CAPACITY BUILDING\\nContinuously evaluating and enhancing the competencies and capabilities of the workforce is essential to managing \\nand reducing crime in its various forms, be these social, financial or environmental. There is a particular emphasis \\non maintaining road safety, ensuring the security of neighborhoods and public areas and dealing with emergencies \\nand Dubai Police strives to ensure workforce readiness to achieve these objectives in an efficient and timely manner. \\nDubai Police also aims to mobilize community support by interacting with the public to exchange knowledge and \\ninformation. Interaction with the public is conducted via platforms such as Emirate-wide media campaigns and \\nawareness workshops. \\nDubai Police also contributes to building capacity and capability for law enforcement agencies across the GCC. To \\ndate, the police academy has received over 15,500 students from across the GCC in higher education programs. \\nThe academy’s core curriculum and course offerings are continuously evaluated and upgraded both to serve the \\nchanging needs of the law enforcement sector but also to help the UAE achieve its desired education outcomes. A \\nrecent example is a new program on ‘law and the environment’ that is aimed at educating law enforcement officials \\nto assist in meeting Dubai ambitions to become the city with the world’s lowest carbon footprint by 2050. \\n2. SMART TRANSFORMATION FOR A SMART CITY\\nDubai Police’s smart transformation program has five dimensions: customer happiness, confidence and participation \\nof the public, technological transformation of policing operations, integration of smart services and ensuring the \\nwell-being and efficiency of the workforce.\\nThe Dubai Police smart app offers over 75 e-services each adapted to different categories of users; the public, \\ninstitutions, visitors and staff. The application provides round-the-clock services for people with disabilities and \\noffers texting and live chatting services with the call center in six languages. The mobile app guarantees that communication and transactions and conducted seamlessly and confidentially according to the standards of Dubai Smart Government. \\nTaking smart transformation a step further, Dubai Police recently launched the world’s first smart police station (SPS) \\nthat operates round the clock without human intervention. The SPS offers 27 key services and 33 sub-services, \\nincluding reporting of crimes and traffic incidents and community services. Future plans include transforming all \\npolice stations in Dubai to smart police stations.3. THE RIGHT TO A SAFE LIFE: YOUR PROTECTION…OUR HAPPINESS', metadata={'source': 'UAE_Docs/UAE AND THE 2030 AGENDA FOR SUSTAINABLE DEVELOPMENT - P2.pdf', 'page': 41}),\n",
       "  1.324265480041504),\n",
       " (Document(page_content='130 131\\nDUBAI POLICE: A FORCE FOR SUSTAINABLE DEVELOPMENT\\nSMART. SECURE. TOGETHER.\\nThe history of Dubai Police dates back to 1956 when it was mandated to ensure the safety and security of the \\nEmirate of Dubai. Today, Dubai Police Force consists of over 22,000 employees committed to making Dubai one of \\nthe safest cities in the world.\\nThe strategic objectives of Dubai Police align with a number of federal and local government plans including, the \\nUAE Vision 2021, the Dubai Plan 2021, the UAE Green Economy for Sustainable Development 2030 among others. \\nContributing to the sustainable development of the UAE is a particularly important aspect of the operational model \\nof Dubai Police. Recent contributions were outlined in the Dubai Police Sustainability Report that was prepared in \\naccordance with the standards of the Global Reporting Initiative (GRI). Dubai Police is also committed to helping \\nthe UAE implement and achieve the UN SDGs and various aspects of the SDGs are reflected in recent initiatives. \\nThese range from building the capabilities of the workforce, leading the transition to SMART technologies, ensuring \\nthat people - especially women, children and vulnerable populations - live in safety and security and taking action on \\nclimate issues by targeting a zero-carbon police force by the year 2020. \\n1. QUALITY EDUCATION & CAPACITY BUILDING\\nContinuously evaluating and enhancing the competencies and capabilities of the workforce is essential to managing \\nand reducing crime in its various forms, be these social, financial or environmental. There is a particular emphasis \\non maintaining road safety, ensuring the security of neighborhoods and public areas and dealing with emergencies \\nand Dubai Police strives to ensure workforce readiness to achieve these objectives in an efficient and timely manner. \\nDubai Police also aims to mobilize community support by interacting with the public to exchange knowledge and \\ninformation. Interaction with the public is conducted via platforms such as Emirate-wide media campaigns and \\nawareness workshops. \\nDubai Police also contributes to building capacity and capability for law enforcement agencies across the GCC. To \\ndate, the police academy has received over 15,500 students from across the GCC in higher education programs. \\nThe academy’s core curriculum and course offerings are continuously evaluated and upgraded both to serve the \\nchanging needs of the law enforcement sector but also to help the UAE achieve its desired education outcomes. A \\nrecent example is a new program on ‘law and the environment’ that is aimed at educating law enforcement officials \\nto assist in meeting Dubai ambitions to become the city with the world’s lowest carbon footprint by 2050. \\n2. SMART TRANSFORMATION FOR A SMART CITY\\nDubai Police’s smart transformation program has five dimensions: customer happiness, confidence and participation \\nof the public, technological transformation of policing operations, integration of smart services and ensuring the \\nwell-being and efficiency of the workforce.\\nThe Dubai Police smart app offers over 75 e-services each adapted to different categories of users; the public, \\ninstitutions, visitors and staff. The application provides round-the-clock services for people with disabilities and \\noffers texting and live chatting services with the call center in six languages. The mobile app guarantees that communication and transactions and conducted seamlessly and confidentially according to the standards of Dubai Smart Government. \\nTaking smart transformation a step further, Dubai Police recently launched the world’s first smart police station (SPS) \\nthat operates round the clock without human intervention. The SPS offers 27 key services and 33 sub-services, \\nincluding reporting of crimes and traffic incidents and community services. Future plans include transforming all \\npolice stations in Dubai to smart police stations.3. THE RIGHT TO A SAFE LIFE: YOUR PROTECTION…OUR HAPPINESS', metadata={'source': 'UAE_Docs/UAE AND THE 2030 AGENDA FOR SUSTAINABLE DEVELOPMENT - P2.pdf', 'page': 41}),\n",
       "  1.324265480041504)]"
      ]
     },
     "execution_count": 4,
     "metadata": {},
     "output_type": "execute_result"
    }
   ],
   "source": [
    "from langchain.vectorstores import Chroma\n",
    "from langchain.embeddings import SentenceTransformerEmbeddings\n",
    "directory = \"UAE_Docs_Embeddings\"\n",
    "embeddings = SentenceTransformerEmbeddings(model_name ='sentence-transformers/all-MiniLM-L6-v2')\n",
    "vectordb = Chroma(persist_directory=directory, embedding_function=embeddings)\n",
    "query = input(\"Type your search: \")\n",
    "result_docs = vectordb.similarity_search_with_score(query)\n",
    "result_docs"
   ]
  },
  {
   "cell_type": "code",
   "execution_count": null,
   "metadata": {},
   "outputs": [],
   "source": []
  }
 ],
 "metadata": {
  "kernelspec": {
   "display_name": "Python 3",
   "language": "python",
   "name": "python3"
  },
  "language_info": {
   "codemirror_mode": {
    "name": "ipython",
    "version": 3
   },
   "file_extension": ".py",
   "mimetype": "text/x-python",
   "name": "python",
   "nbconvert_exporter": "python",
   "pygments_lexer": "ipython3",
   "version": "3.8.16"
  },
  "orig_nbformat": 4
 },
 "nbformat": 4,
 "nbformat_minor": 2
}
